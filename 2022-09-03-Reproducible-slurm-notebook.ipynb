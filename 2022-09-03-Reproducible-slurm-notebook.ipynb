{
 "cells": [
  {
   "cell_type": "markdown",
   "metadata": {},
   "source": [
    "# Reproducible SLURM jobs from a Jupyter Notebook"
   ]
  },
  {
   "cell_type": "markdown",
   "metadata": {},
   "source": [
    "For Jupyter notebook and Python lover, we can start automating our workflows by creating notebooks containing any number of pre-processing steps, batch scripts, monitoring commands and post-processing steps to be performed during and after job execution. \n",
    "\n",
    "This can make HPC workflows more reproducible and shareable, and ready-made notebooks can make it easier, for example, for new reseacher students to get started."
   ]
  },
  {
   "cell_type": "markdown",
   "metadata": {},
   "source": [
    "In this post, instead of manage jobs via SSH terminal or open on demand web portal, we demo how to use __Slurm Magics__ to do the interactive analysis and Slurm job management without leaving from Jupyter Notebook."
   ]
  },
  {
   "cell_type": "markdown",
   "metadata": {},
   "source": [
    "## SLURM magics"
   ]
  },
  {
   "cell_type": "markdown",
   "metadata": {},
   "source": [
    "- __Slurm magic__ developed by National Energy Research Scientific Computing (NERSC)[1]\n",
    "- The slurm magic command will interact with __Slurm workload__ management, for short, it is Slurm command wrapper.\n",
    "- Each command implement by __fork or spawned new __subprocess__ then output is captured and show on notebook with UTF-8 decoding.\n"
   ]
  },
  {
   "cell_type": "markdown",
   "metadata": {},
   "source": [
    "## Using SLURM magics"
   ]
  },
  {
   "cell_type": "markdown",
   "metadata": {},
   "source": [
    "With Ondemand Exascale webportal you can login and select --> Interactive Apps --> Jupyter Notebook"
   ]
  },
  {
   "cell_type": "markdown",
   "metadata": {},
   "source": [
    "http://exascale.mahidol.ac.th"
   ]
  },
  {
   "cell_type": "markdown",
   "metadata": {},
   "source": [
    "Assume, you connect to exascale.mahidol.ac.th portal, and create Jupyter Notebook server."
   ]
  },
  {
   "cell_type": "markdown",
   "metadata": {},
   "source": [
    "In new jupyter notebook, we need to load IPython slurm extension:"
   ]
  },
  {
   "cell_type": "code",
   "execution_count": null,
   "metadata": {},
   "outputs": [],
   "source": [
    "pip install git+https://github.com/NERSC/slurm-magic.git\n"
   ]
  },
  {
   "cell_type": "code",
   "execution_count": 1,
   "metadata": {},
   "outputs": [],
   "source": [
    "%load_ext slurm_magic"
   ]
  },
  {
   "cell_type": "markdown",
   "metadata": {},
   "source": [
    "From now on, we can interact with Slurm workload manager,without VPN SSH"
   ]
  },
  {
   "cell_type": "code",
   "execution_count": 2,
   "metadata": {
    "collapsed": true
   },
   "outputs": [
    {
     "data": {
      "application/json": {
       "cell": {
        "!": "OSMagics",
        "HTML": "Other",
        "SVG": "Other",
        "bash": "Other",
        "capture": "ExecutionMagics",
        "debug": "ExecutionMagics",
        "file": "Other",
        "html": "DisplayMagics",
        "javascript": "DisplayMagics",
        "js": "DisplayMagics",
        "latex": "DisplayMagics",
        "markdown": "DisplayMagics",
        "perl": "Other",
        "prun": "ExecutionMagics",
        "pypy": "Other",
        "python": "Other",
        "python2": "Other",
        "python3": "Other",
        "ruby": "Other",
        "sbatch": "SlurmMagics",
        "script": "ScriptMagics",
        "sh": "Other",
        "svg": "DisplayMagics",
        "sx": "OSMagics",
        "system": "OSMagics",
        "time": "ExecutionMagics",
        "timeit": "ExecutionMagics",
        "writefile": "OSMagics"
       },
       "line": {
        "alias": "OSMagics",
        "alias_magic": "BasicMagics",
        "autoawait": "AsyncMagics",
        "autocall": "AutoMagics",
        "automagic": "AutoMagics",
        "autosave": "KernelMagics",
        "bookmark": "OSMagics",
        "cat": "Other",
        "cd": "OSMagics",
        "clear": "KernelMagics",
        "colors": "BasicMagics",
        "conda": "PackagingMagics",
        "config": "ConfigMagics",
        "connect_info": "KernelMagics",
        "cp": "Other",
        "debug": "ExecutionMagics",
        "dhist": "OSMagics",
        "dirs": "OSMagics",
        "doctest_mode": "BasicMagics",
        "ed": "Other",
        "edit": "KernelMagics",
        "env": "OSMagics",
        "gui": "BasicMagics",
        "hist": "Other",
        "history": "HistoryMagics",
        "killbgscripts": "ScriptMagics",
        "ldir": "Other",
        "less": "KernelMagics",
        "lf": "Other",
        "lk": "Other",
        "ll": "Other",
        "load": "CodeMagics",
        "load_ext": "ExtensionMagics",
        "loadpy": "CodeMagics",
        "logoff": "LoggingMagics",
        "logon": "LoggingMagics",
        "logstart": "LoggingMagics",
        "logstate": "LoggingMagics",
        "logstop": "LoggingMagics",
        "ls": "Other",
        "lsmagic": "BasicMagics",
        "lx": "Other",
        "macro": "ExecutionMagics",
        "magic": "BasicMagics",
        "man": "KernelMagics",
        "matplotlib": "PylabMagics",
        "mkdir": "Other",
        "more": "KernelMagics",
        "mv": "Other",
        "notebook": "BasicMagics",
        "page": "BasicMagics",
        "pastebin": "CodeMagics",
        "pdb": "ExecutionMagics",
        "pdef": "NamespaceMagics",
        "pdoc": "NamespaceMagics",
        "pfile": "NamespaceMagics",
        "pinfo": "NamespaceMagics",
        "pinfo2": "NamespaceMagics",
        "pip": "PackagingMagics",
        "popd": "OSMagics",
        "pprint": "BasicMagics",
        "precision": "BasicMagics",
        "prun": "ExecutionMagics",
        "psearch": "NamespaceMagics",
        "psource": "NamespaceMagics",
        "pushd": "OSMagics",
        "pwd": "OSMagics",
        "pycat": "OSMagics",
        "pylab": "PylabMagics",
        "qtconsole": "KernelMagics",
        "quickref": "BasicMagics",
        "recall": "HistoryMagics",
        "rehashx": "OSMagics",
        "reload_ext": "ExtensionMagics",
        "rep": "Other",
        "rerun": "HistoryMagics",
        "reset": "NamespaceMagics",
        "reset_selective": "NamespaceMagics",
        "rm": "Other",
        "rmdir": "Other",
        "run": "ExecutionMagics",
        "sacct": "SlurmMagics",
        "sacctmgr": "SlurmMagics",
        "salloc": "SlurmMagics",
        "sattach": "SlurmMagics",
        "save": "CodeMagics",
        "sbatch": "SlurmMagics",
        "sbcast": "SlurmMagics",
        "sc": "OSMagics",
        "scancel": "SlurmMagics",
        "scontrol": "SlurmMagics",
        "sdiag": "SlurmMagics",
        "set_env": "OSMagics",
        "sinfo": "SlurmMagics",
        "slurm": "SlurmMagics",
        "smap": "SlurmMagics",
        "sprio": "SlurmMagics",
        "squeue": "SlurmMagics",
        "sreport": "SlurmMagics",
        "srun": "SlurmMagics",
        "sshare": "SlurmMagics",
        "sstat": "SlurmMagics",
        "store": "StoreMagics",
        "strigger": "SlurmMagics",
        "sview": "SlurmMagics",
        "sx": "OSMagics",
        "system": "OSMagics",
        "tb": "ExecutionMagics",
        "time": "ExecutionMagics",
        "timeit": "ExecutionMagics",
        "unalias": "OSMagics",
        "unload_ext": "ExtensionMagics",
        "who": "NamespaceMagics",
        "who_ls": "NamespaceMagics",
        "whos": "NamespaceMagics",
        "xdel": "NamespaceMagics",
        "xmode": "BasicMagics"
       }
      },
      "text/plain": [
       "Available line magics:\n",
       "%alias  %alias_magic  %autoawait  %autocall  %automagic  %autosave  %bookmark  %cat  %cd  %clear  %colors  %conda  %config  %connect_info  %cp  %debug  %dhist  %dirs  %doctest_mode  %ed  %edit  %env  %gui  %hist  %history  %killbgscripts  %ldir  %less  %lf  %lk  %ll  %load  %load_ext  %loadpy  %logoff  %logon  %logstart  %logstate  %logstop  %ls  %lsmagic  %lx  %macro  %magic  %man  %matplotlib  %mkdir  %more  %mv  %notebook  %page  %pastebin  %pdb  %pdef  %pdoc  %pfile  %pinfo  %pinfo2  %pip  %popd  %pprint  %precision  %prun  %psearch  %psource  %pushd  %pwd  %pycat  %pylab  %qtconsole  %quickref  %recall  %rehashx  %reload_ext  %rep  %rerun  %reset  %reset_selective  %rm  %rmdir  %run  %sacct  %sacctmgr  %salloc  %sattach  %save  %sbatch  %sbcast  %sc  %scancel  %scontrol  %sdiag  %set_env  %sinfo  %slurm  %smap  %sprio  %squeue  %sreport  %srun  %sshare  %sstat  %store  %strigger  %sview  %sx  %system  %tb  %time  %timeit  %unalias  %unload_ext  %who  %who_ls  %whos  %xdel  %xmode\n",
       "\n",
       "Available cell magics:\n",
       "%%!  %%HTML  %%SVG  %%bash  %%capture  %%debug  %%file  %%html  %%javascript  %%js  %%latex  %%markdown  %%perl  %%prun  %%pypy  %%python  %%python2  %%python3  %%ruby  %%sbatch  %%script  %%sh  %%svg  %%sx  %%system  %%time  %%timeit  %%writefile\n",
       "\n",
       "Automagic is ON, % prefix IS NOT needed for line magics."
      ]
     },
     "execution_count": 2,
     "metadata": {},
     "output_type": "execute_result"
    }
   ],
   "source": [
    "%lsmagic    "
   ]
  },
  {
   "cell_type": "code",
   "execution_count": 3,
   "metadata": {},
   "outputs": [],
   "source": [
    "import warnings\n",
    "warnings.filterwarnings('ignore')"
   ]
  },
  {
   "cell_type": "markdown",
   "metadata": {},
   "source": [
    "## Submit GROMACS job and analysis results on the fly"
   ]
  },
  {
   "cell_type": "markdown",
   "metadata": {},
   "source": [
    "To demo how to submit job for __ simulations of biological macromolecules__ GROMACS package example for Lysozyme[3] in water is used."
   ]
  },
  {
   "cell_type": "code",
   "execution_count": null,
   "metadata": {},
   "outputs": [],
   "source": [
    "!git clone https://github.com/snitgit/Slurm-jupyter-notebook.git"
   ]
  },
  {
   "cell_type": "code",
   "execution_count": 4,
   "metadata": {},
   "outputs": [
    {
     "name": "stdout",
     "output_type": "stream",
     "text": [
      "/home/snit.san/slurm-magic/Slurm-jupyter-notebook\n"
     ]
    }
   ],
   "source": [
    "cd Slurm-jupyter-notebook/"
   ]
  },
  {
   "cell_type": "code",
   "execution_count": 5,
   "metadata": {},
   "outputs": [
    {
     "name": "stdout",
     "output_type": "stream",
     "text": [
      "0-setup.ipynb  2-slurm-analysis.ipynb  \u001b[0m\u001b[01;34mcities\u001b[0m/       \u001b[01;34mimg\u001b[0m/\r\n",
      "1-intro.ipynb  3-parallel.ipynb        \u001b[01;34mgromacs_job\u001b[0m/\r\n"
     ]
    }
   ],
   "source": [
    "ls"
   ]
  },
  {
   "cell_type": "code",
   "execution_count": 6,
   "metadata": {},
   "outputs": [
    {
     "name": "stdout",
     "output_type": "stream",
     "text": [
      "/home/snit.san/slurm-magic/Slurm-jupyter-notebook/gromacs_job\n"
     ]
    }
   ],
   "source": [
    "%cd gromacs_job/"
   ]
  },
  {
   "cell_type": "code",
   "execution_count": 7,
   "metadata": {},
   "outputs": [
    {
     "data": {
      "text/html": [
       "<div>\n",
       "<style scoped>\n",
       "    .dataframe tbody tr th:only-of-type {\n",
       "        vertical-align: middle;\n",
       "    }\n",
       "\n",
       "    .dataframe tbody tr th {\n",
       "        vertical-align: top;\n",
       "    }\n",
       "\n",
       "    .dataframe thead th {\n",
       "        text-align: right;\n",
       "    }\n",
       "</style>\n",
       "<table border=\"1\" class=\"dataframe\">\n",
       "  <thead>\n",
       "    <tr style=\"text-align: right;\">\n",
       "      <th></th>\n",
       "      <th>PARTITION</th>\n",
       "      <th>AVAIL</th>\n",
       "      <th>TIMELIMIT</th>\n",
       "      <th>NODES</th>\n",
       "      <th>STATE</th>\n",
       "      <th>NODELIST</th>\n",
       "    </tr>\n",
       "  </thead>\n",
       "  <tbody>\n",
       "    <tr>\n",
       "      <th>0</th>\n",
       "      <td>batch*</td>\n",
       "      <td>up</td>\n",
       "      <td>420-00:00:</td>\n",
       "      <td>1</td>\n",
       "      <td>mix</td>\n",
       "      <td>omega</td>\n",
       "    </tr>\n",
       "    <tr>\n",
       "      <th>1</th>\n",
       "      <td>batch*</td>\n",
       "      <td>up</td>\n",
       "      <td>420-00:00:</td>\n",
       "      <td>3</td>\n",
       "      <td>idle</td>\n",
       "      <td>tensorcore,turing,zeta</td>\n",
       "    </tr>\n",
       "  </tbody>\n",
       "</table>\n",
       "</div>"
      ],
      "text/plain": [
       "  PARTITION AVAIL   TIMELIMIT  NODES STATE                NODELIST\n",
       "0    batch*    up  420-00:00:      1   mix                   omega\n",
       "1    batch*    up  420-00:00:      3  idle  tensorcore,turing,zeta"
      ]
     },
     "execution_count": 7,
     "metadata": {},
     "output_type": "execute_result"
    }
   ],
   "source": [
    "sinfo"
   ]
  },
  {
   "cell_type": "markdown",
   "metadata": {},
   "source": [
    "Use __%sbatch__ to submit job on next cell"
   ]
  },
  {
   "cell_type": "code",
   "execution_count": 8,
   "metadata": {},
   "outputs": [
    {
     "data": {
      "text/html": [
       "<div>\n",
       "<style scoped>\n",
       "    .dataframe tbody tr th:only-of-type {\n",
       "        vertical-align: middle;\n",
       "    }\n",
       "\n",
       "    .dataframe tbody tr th {\n",
       "        vertical-align: top;\n",
       "    }\n",
       "\n",
       "    .dataframe thead th {\n",
       "        text-align: right;\n",
       "    }\n",
       "</style>\n",
       "<table border=\"1\" class=\"dataframe\">\n",
       "  <thead>\n",
       "    <tr style=\"text-align: right;\">\n",
       "      <th></th>\n",
       "      <th>JOBID</th>\n",
       "      <th>PARTITION</th>\n",
       "      <th>NAME</th>\n",
       "      <th>USER</th>\n",
       "      <th>ST</th>\n",
       "      <th>TIME</th>\n",
       "      <th>NODES</th>\n",
       "      <th>NODELIST(REASON)</th>\n",
       "    </tr>\n",
       "  </thead>\n",
       "  <tbody>\n",
       "    <tr>\n",
       "      <th>0</th>\n",
       "      <td>6599</td>\n",
       "      <td>batch</td>\n",
       "      <td>sys-dash</td>\n",
       "      <td>snit.san</td>\n",
       "      <td>R</td>\n",
       "      <td>1:13</td>\n",
       "      <td>1</td>\n",
       "      <td>omega</td>\n",
       "    </tr>\n",
       "    <tr>\n",
       "      <th>1</th>\n",
       "      <td>5890</td>\n",
       "      <td>batch</td>\n",
       "      <td>bash</td>\n",
       "      <td>tantip.a</td>\n",
       "      <td>R</td>\n",
       "      <td>9-02:06:59</td>\n",
       "      <td>1</td>\n",
       "      <td>omega</td>\n",
       "    </tr>\n",
       "  </tbody>\n",
       "</table>\n",
       "</div>"
      ],
      "text/plain": [
       "   JOBID PARTITION      NAME      USER ST        TIME  NODES NODELIST(REASON)\n",
       "0   6599     batch  sys-dash  snit.san  R        1:13      1            omega\n",
       "1   5890     batch      bash  tantip.a  R  9-02:06:59      1            omega"
      ]
     },
     "execution_count": 8,
     "metadata": {},
     "output_type": "execute_result"
    }
   ],
   "source": [
    "squeue"
   ]
  },
  {
   "cell_type": "code",
   "execution_count": 35,
   "metadata": {},
   "outputs": [
    {
     "data": {
      "text/plain": [
       "'Submitted batch job 6611\\n'"
      ]
     },
     "execution_count": 35,
     "metadata": {},
     "output_type": "execute_result"
    }
   ],
   "source": [
    "%%sbatch\n",
    "#!/bin/bash -l\n",
    "#SBATCH -A ict\n",
    "#SBATCH -N 1\n",
    "#SBATCH -t 01:05:00\n",
    "#SBATCH -J gromacs\n",
    "\n",
    "#SBATCH --gres=gpu:2\n",
    "\n",
    "#SBATCH -w, --nodelist=zeta\n",
    "# change temp or log to your folder\n",
    "export SINGULARITY_TMPDIR=/home/snit.san/tmp\n",
    "export CUDA_MPS_LOG_DIRECTORY=/home/snit.san/var/log/mvidia-mps\n",
    "module use /shared/software/software/mulabs\n",
    "\n",
    "module load hpcx-ompi\n",
    "module load gromacs\n",
    "gmx grompp -f npt.mdp -c start.gro -p topol.top -maxwarn 100\n",
    "gmx mdrun -ntmpi 1 -ntomp 40 -v -pin on -nb gpu --pme gpu -noconfout -s topol.tpr -deffnm npt"
   ]
  },
  {
   "cell_type": "code",
   "execution_count": 36,
   "metadata": {},
   "outputs": [
    {
     "data": {
      "text/html": [
       "<div>\n",
       "<style scoped>\n",
       "    .dataframe tbody tr th:only-of-type {\n",
       "        vertical-align: middle;\n",
       "    }\n",
       "\n",
       "    .dataframe tbody tr th {\n",
       "        vertical-align: top;\n",
       "    }\n",
       "\n",
       "    .dataframe thead th {\n",
       "        text-align: right;\n",
       "    }\n",
       "</style>\n",
       "<table border=\"1\" class=\"dataframe\">\n",
       "  <thead>\n",
       "    <tr style=\"text-align: right;\">\n",
       "      <th></th>\n",
       "      <th>JOBID</th>\n",
       "      <th>PARTITION</th>\n",
       "      <th>NAME</th>\n",
       "      <th>USER</th>\n",
       "      <th>ST</th>\n",
       "      <th>TIME</th>\n",
       "      <th>NODES</th>\n",
       "      <th>NODELIST(REASON)</th>\n",
       "    </tr>\n",
       "  </thead>\n",
       "  <tbody>\n",
       "    <tr>\n",
       "      <th>0</th>\n",
       "      <td>6599</td>\n",
       "      <td>batch</td>\n",
       "      <td>sys-dash</td>\n",
       "      <td>snit.san</td>\n",
       "      <td>R</td>\n",
       "      <td>44:26</td>\n",
       "      <td>1</td>\n",
       "      <td>omega</td>\n",
       "    </tr>\n",
       "    <tr>\n",
       "      <th>1</th>\n",
       "      <td>6611</td>\n",
       "      <td>batch</td>\n",
       "      <td>gromacs</td>\n",
       "      <td>snit.san</td>\n",
       "      <td>R</td>\n",
       "      <td>0:03</td>\n",
       "      <td>1</td>\n",
       "      <td>zeta</td>\n",
       "    </tr>\n",
       "  </tbody>\n",
       "</table>\n",
       "</div>"
      ],
      "text/plain": [
       "   JOBID PARTITION      NAME      USER ST   TIME  NODES NODELIST(REASON)\n",
       "0   6599     batch  sys-dash  snit.san  R  44:26      1            omega\n",
       "1   6611     batch   gromacs  snit.san  R   0:03      1             zeta"
      ]
     },
     "execution_count": 36,
     "metadata": {},
     "output_type": "execute_result"
    }
   ],
   "source": [
    "%squeue -u snit.san"
   ]
  },
  {
   "cell_type": "markdown",
   "metadata": {},
   "source": [
    " Gromacs utility can be used to extract information from the binary output files.\n",
    " \n",
    " To run it, we write shell commands into a code cell containing the __%%bash__ magic to let Jupyter execute a bash script. In our case, we extract time-dependent values of __temperature, density and pressure__ from the simulation[4]."
   ]
  },
  {
   "cell_type": "code",
   "execution_count": 41,
   "metadata": {
    "scrolled": true
   },
   "outputs": [
    {
     "name": "stdout",
     "output_type": "stream",
     "text": [
      "\n",
      "Statistics over 161501 steps [ 0.0000 through 323.0000 ps ], 1 data sets\n",
      "All statistics are over 16151 points\n",
      "\n",
      "Energy                      Average   Err.Est.       RMSD  Tot-Drift\n",
      "-------------------------------------------------------------------------------\n",
      "Temperature                 300.024      0.069    1.66438   0.354538  (K)\n",
      "\n",
      "Statistics over 162501 steps [ 0.0000 through 325.0000 ps ], 1 data sets\n",
      "All statistics are over 16251 points\n",
      "\n",
      "Energy                      Average   Err.Est.       RMSD  Tot-Drift\n",
      "-------------------------------------------------------------------------------\n",
      "Density                     1016.21       0.21    2.37206  -0.433522  (kg/m^3)\n",
      "\n",
      "Statistics over 163501 steps [ 0.0000 through 327.0000 ps ], 1 data sets\n",
      "All statistics are over 16351 points\n",
      "\n",
      "Energy                      Average   Err.Est.       RMSD  Tot-Drift\n",
      "-------------------------------------------------------------------------------\n",
      "Pressure                    1.06924       0.18    140.482   0.193272  (bar)\n"
     ]
    },
    {
     "name": "stderr",
     "output_type": "stream",
     "text": [
      "INFO:    Using cached SIF image\n",
      "     :-) GROMACS - gmx energy, 2021-dev-20210128-6a0b0c4-dirty-unknown (-:\n",
      "\n",
      "                            GROMACS is written by:\n",
      "     Andrey Alekseenko              Emile Apol              Rossen Apostolov     \n",
      "         Paul Bauer           Herman J.C. Berendsen           Par Bjelkmar       \n",
      "       Christian Blau           Viacheslav Bolnykh             Kevin Boyd        \n",
      "     Aldert van Buuren           Rudi van Drunen             Anton Feenstra      \n",
      "    Gilles Gouaillardet             Alan Gray               Gerrit Groenhof      \n",
      "       Anca Hamuraru            Vincent Hindriksen          M. Eric Irrgang      \n",
      "      Aleksei Iupinov           Christoph Junghans             Joe Jordan        \n",
      "    Dimitrios Karkoulis            Peter Kasson                Jiri Kraus        \n",
      "      Carsten Kutzner              Per Larsson              Justin A. Lemkul     \n",
      "       Viveca Lindahl            Magnus Lundborg             Erik Marklund       \n",
      "        Pascal Merz             Pieter Meulenhoff            Teemu Murtola       \n",
      "        Szilard Pall               Sander Pronk              Roland Schulz       \n",
      "       Michael Shirts            Alexey Shvetsov             Alfons Sijbers      \n",
      "       Peter Tieleman              Jon Vincent              Teemu Virolainen     \n",
      "     Christian Wennberg            Maarten Wolf              Artem Zhmurov       \n",
      "                           and the project leaders:\n",
      "        Mark Abraham, Berk Hess, Erik Lindahl, and David van der Spoel\n",
      "\n",
      "Copyright (c) 1991-2000, University of Groningen, The Netherlands.\n",
      "Copyright (c) 2001-2019, The GROMACS development team at\n",
      "Uppsala University, Stockholm University and\n",
      "the Royal Institute of Technology, Sweden.\n",
      "check out http://www.gromacs.org for more information.\n",
      "\n",
      "GROMACS is free software; you can redistribute it and/or modify it\n",
      "under the terms of the GNU Lesser General Public License\n",
      "as published by the Free Software Foundation; either version 2.1\n",
      "of the License, or (at your option) any later version.\n",
      "\n",
      "GROMACS:      gmx energy, version 2021-dev-20210128-6a0b0c4-dirty-unknown\n",
      "Executable:   /usr/local/gromacs/avx2_256/bin/gmx\n",
      "Data prefix:  /usr/local/gromacs/avx2_256\n",
      "Working dir:  /home/snit.san/slurm-magic/Slurm-jupyter-notebook/gromacs_job\n",
      "Command line:\n",
      "  gmx energy -f npt.edr -o temperature.xvg\n",
      "\n",
      "Opened npt.edr as single precision energy file\n",
      "\n",
      "Select the terms you want from the following list by\n",
      "selecting either (part of) the name or the number or a combination.\n",
      "End your selection with an empty line or a zero.\n",
      "-------------------------------------------------------------------\n",
      "  1  Bond             2  Angle            3  Proper-Dih.      4  Ryckaert-Bell.\n",
      "  5  LJ-14            6  Coulomb-14       7  LJ-(SR)          8  Disper.-corr. \n",
      "  9  Coulomb-(SR)    10  Coul.-recip.    11  Potential       12  Kinetic-En.   \n",
      " 13  Total-Energy    14  Conserved-En.   15  Temperature     16  Pres.-DC      \n",
      " 17  Pressure        18  Constr.-rmsd    19  Box-X           20  Box-Y         \n",
      " 21  Box-Z           22  Volume          23  Density         24  pV            \n",
      " 25  Enthalpy        26  Vir-XX          27  Vir-XY          28  Vir-XZ        \n",
      " 29  Vir-YX          30  Vir-YY          31  Vir-YZ          32  Vir-ZX        \n",
      " 33  Vir-ZY          34  Vir-ZZ          35  Pres-XX         36  Pres-XY       \n",
      " 37  Pres-XZ         38  Pres-YX         39  Pres-YY         40  Pres-YZ       \n",
      " 41  Pres-ZX         42  Pres-ZY         43  Pres-ZZ         44  #Surf*SurfTen \n",
      " 45  Box-Vel-XX      46  Box-Vel-YY      47  Box-Vel-ZZ      48  T-Protein     \n",
      " 49  T-non-Protein                       50  Lamb-Protein                      \n",
      " 51  Lamb-non-Protein                  \n",
      "\n",
      "\n",
      "Back Off! I just backed up temperature.xvg to ./#temperature.xvg.2#\n",
      "\r",
      "Reading energy frame      0 time    0.000         \r",
      "Reading energy frame      1 time    1.000         \r",
      "Reading energy frame      2 time    2.000         \r",
      "Reading energy frame      3 time    3.000         \r",
      "Reading energy frame      4 time    4.000         \r",
      "Reading energy frame      5 time    5.000         \r",
      "Reading energy frame      6 time    6.000         \r",
      "Reading energy frame      7 time    7.000         \r",
      "Reading energy frame      8 time    8.000         \r",
      "Reading energy frame      9 time    9.000         \r",
      "Reading energy frame     10 time   10.000         \r",
      "Reading energy frame     11 time   11.000         \r",
      "Reading energy frame     12 time   12.000         \r",
      "Reading energy frame     13 time   13.000         \r",
      "Reading energy frame     14 time   14.000         \r",
      "Reading energy frame     15 time   15.000         \r",
      "Reading energy frame     16 time   16.000         \r",
      "Reading energy frame     17 time   17.000         \r",
      "Reading energy frame     18 time   18.000         \r",
      "Reading energy frame     19 time   19.000         \r",
      "Reading energy frame     20 time   20.000         \r",
      "Reading energy frame     30 time   30.000         \r",
      "Reading energy frame     40 time   40.000         \r",
      "Reading energy frame     50 time   50.000         \r",
      "Reading energy frame     60 time   60.000         \r",
      "Reading energy frame     70 time   70.000         \r",
      "Reading energy frame     80 time   80.000         \r",
      "Reading energy frame     90 time   90.000         \r",
      "Reading energy frame    100 time  100.000         \r",
      "Reading energy frame    110 time  110.000         \r",
      "Reading energy frame    120 time  120.000         \r",
      "Reading energy frame    130 time  130.000         \r",
      "Reading energy frame    140 time  140.000         \r",
      "Reading energy frame    150 time  150.000         \r",
      "Reading energy frame    160 time  160.000         \r",
      "Reading energy frame    170 time  170.000         \r",
      "Reading energy frame    180 time  180.000         \r",
      "Reading energy frame    190 time  190.000         \r",
      "Reading energy frame    200 time  200.000         \r",
      "Reading energy frame    300 time  300.000         \r",
      "Last energy frame read 323 time  323.000         \n",
      "\n",
      "GROMACS reminds you: \"Der Ball ist rund, das Spiel dauert 90 minuten, alles andere ist Theorie\" (Lola rennt)\n",
      "\n",
      "INFO:    Using cached SIF image\n",
      "     :-) GROMACS - gmx energy, 2021-dev-20210128-6a0b0c4-dirty-unknown (-:\n",
      "\n",
      "                            GROMACS is written by:\n",
      "     Andrey Alekseenko              Emile Apol              Rossen Apostolov     \n",
      "         Paul Bauer           Herman J.C. Berendsen           Par Bjelkmar       \n",
      "       Christian Blau           Viacheslav Bolnykh             Kevin Boyd        \n",
      "     Aldert van Buuren           Rudi van Drunen             Anton Feenstra      \n",
      "    Gilles Gouaillardet             Alan Gray               Gerrit Groenhof      \n",
      "       Anca Hamuraru            Vincent Hindriksen          M. Eric Irrgang      \n",
      "      Aleksei Iupinov           Christoph Junghans             Joe Jordan        \n",
      "    Dimitrios Karkoulis            Peter Kasson                Jiri Kraus        \n",
      "      Carsten Kutzner              Per Larsson              Justin A. Lemkul     \n",
      "       Viveca Lindahl            Magnus Lundborg             Erik Marklund       \n",
      "        Pascal Merz             Pieter Meulenhoff            Teemu Murtola       \n",
      "        Szilard Pall               Sander Pronk              Roland Schulz       \n",
      "       Michael Shirts            Alexey Shvetsov             Alfons Sijbers      \n",
      "       Peter Tieleman              Jon Vincent              Teemu Virolainen     \n",
      "     Christian Wennberg            Maarten Wolf              Artem Zhmurov       \n",
      "                           and the project leaders:\n",
      "        Mark Abraham, Berk Hess, Erik Lindahl, and David van der Spoel\n",
      "\n",
      "Copyright (c) 1991-2000, University of Groningen, The Netherlands.\n",
      "Copyright (c) 2001-2019, The GROMACS development team at\n",
      "Uppsala University, Stockholm University and\n",
      "the Royal Institute of Technology, Sweden.\n",
      "check out http://www.gromacs.org for more information.\n",
      "\n",
      "GROMACS is free software; you can redistribute it and/or modify it\n",
      "under the terms of the GNU Lesser General Public License\n",
      "as published by the Free Software Foundation; either version 2.1\n",
      "of the License, or (at your option) any later version.\n",
      "\n",
      "GROMACS:      gmx energy, version 2021-dev-20210128-6a0b0c4-dirty-unknown\n",
      "Executable:   /usr/local/gromacs/avx2_256/bin/gmx\n",
      "Data prefix:  /usr/local/gromacs/avx2_256\n",
      "Working dir:  /home/snit.san/slurm-magic/Slurm-jupyter-notebook/gromacs_job\n",
      "Command line:\n",
      "  gmx energy -f npt.edr -o density.xvg\n",
      "\n",
      "Opened npt.edr as single precision energy file\n",
      "\n",
      "Select the terms you want from the following list by\n",
      "selecting either (part of) the name or the number or a combination.\n",
      "End your selection with an empty line or a zero.\n",
      "-------------------------------------------------------------------\n",
      "  1  Bond             2  Angle            3  Proper-Dih.      4  Ryckaert-Bell.\n",
      "  5  LJ-14            6  Coulomb-14       7  LJ-(SR)          8  Disper.-corr. \n",
      "  9  Coulomb-(SR)    10  Coul.-recip.    11  Potential       12  Kinetic-En.   \n",
      " 13  Total-Energy    14  Conserved-En.   15  Temperature     16  Pres.-DC      \n",
      " 17  Pressure        18  Constr.-rmsd    19  Box-X           20  Box-Y         \n",
      " 21  Box-Z           22  Volume          23  Density         24  pV            \n",
      " 25  Enthalpy        26  Vir-XX          27  Vir-XY          28  Vir-XZ        \n",
      " 29  Vir-YX          30  Vir-YY          31  Vir-YZ          32  Vir-ZX        \n",
      " 33  Vir-ZY          34  Vir-ZZ          35  Pres-XX         36  Pres-XY       \n",
      " 37  Pres-XZ         38  Pres-YX         39  Pres-YY         40  Pres-YZ       \n",
      " 41  Pres-ZX         42  Pres-ZY         43  Pres-ZZ         44  #Surf*SurfTen \n",
      " 45  Box-Vel-XX      46  Box-Vel-YY      47  Box-Vel-ZZ      48  T-Protein     \n",
      " 49  T-non-Protein                       50  Lamb-Protein                      \n",
      " 51  Lamb-non-Protein                  \n",
      "\n",
      "\n",
      "Back Off! I just backed up density.xvg to ./#density.xvg.2#\n",
      "\r",
      "Reading energy frame      0 time    0.000         \r",
      "Reading energy frame      1 time    1.000         \r",
      "Reading energy frame      2 time    2.000         \r",
      "Reading energy frame      3 time    3.000         \r",
      "Reading energy frame      4 time    4.000         \r",
      "Reading energy frame      5 time    5.000         \r",
      "Reading energy frame      6 time    6.000         \r",
      "Reading energy frame      7 time    7.000         \r",
      "Reading energy frame      8 time    8.000         \r",
      "Reading energy frame      9 time    9.000         \r",
      "Reading energy frame     10 time   10.000         \r",
      "Reading energy frame     11 time   11.000         \r",
      "Reading energy frame     12 time   12.000         \r",
      "Reading energy frame     13 time   13.000         \r",
      "Reading energy frame     14 time   14.000         \r",
      "Reading energy frame     15 time   15.000         \r",
      "Reading energy frame     16 time   16.000         \r",
      "Reading energy frame     17 time   17.000         \r",
      "Reading energy frame     18 time   18.000         \r",
      "Reading energy frame     19 time   19.000         \r",
      "Reading energy frame     20 time   20.000         \r",
      "Reading energy frame     30 time   30.000         \r",
      "Reading energy frame     40 time   40.000         \r",
      "Reading energy frame     50 time   50.000         \r",
      "Reading energy frame     60 time   60.000         \r",
      "Reading energy frame     70 time   70.000         \r",
      "Reading energy frame     80 time   80.000         \r",
      "Reading energy frame     90 time   90.000         \r",
      "Reading energy frame    100 time  100.000         \r",
      "Reading energy frame    110 time  110.000         \r",
      "Reading energy frame    120 time  120.000         \r",
      "Reading energy frame    130 time  130.000         \r",
      "Reading energy frame    140 time  140.000         \r",
      "Reading energy frame    150 time  150.000         \r",
      "Reading energy frame    160 time  160.000         \r",
      "Reading energy frame    170 time  170.000         \r",
      "Reading energy frame    180 time  180.000         \r",
      "Reading energy frame    190 time  190.000         \r",
      "Reading energy frame    200 time  200.000         \r",
      "Reading energy frame    300 time  300.000         \r",
      "Last energy frame read 325 time  325.000         \n",
      "\n",
      "GROMACS reminds you: \"It's Calling Me to Break my Bonds, Again...\" (Van der Graaf)\n",
      "\n",
      "INFO:    Using cached SIF image\n",
      "     :-) GROMACS - gmx energy, 2021-dev-20210128-6a0b0c4-dirty-unknown (-:\n",
      "\n",
      "                            GROMACS is written by:\n",
      "     Andrey Alekseenko              Emile Apol              Rossen Apostolov     \n",
      "         Paul Bauer           Herman J.C. Berendsen           Par Bjelkmar       \n",
      "       Christian Blau           Viacheslav Bolnykh             Kevin Boyd        \n",
      "     Aldert van Buuren           Rudi van Drunen             Anton Feenstra      \n",
      "    Gilles Gouaillardet             Alan Gray               Gerrit Groenhof      \n",
      "       Anca Hamuraru            Vincent Hindriksen          M. Eric Irrgang      \n",
      "      Aleksei Iupinov           Christoph Junghans             Joe Jordan        \n",
      "    Dimitrios Karkoulis            Peter Kasson                Jiri Kraus        \n",
      "      Carsten Kutzner              Per Larsson              Justin A. Lemkul     \n",
      "       Viveca Lindahl            Magnus Lundborg             Erik Marklund       \n",
      "        Pascal Merz             Pieter Meulenhoff            Teemu Murtola       \n",
      "        Szilard Pall               Sander Pronk              Roland Schulz       \n",
      "       Michael Shirts            Alexey Shvetsov             Alfons Sijbers      \n",
      "       Peter Tieleman              Jon Vincent              Teemu Virolainen     \n",
      "     Christian Wennberg            Maarten Wolf              Artem Zhmurov       \n",
      "                           and the project leaders:\n",
      "        Mark Abraham, Berk Hess, Erik Lindahl, and David van der Spoel\n",
      "\n",
      "Copyright (c) 1991-2000, University of Groningen, The Netherlands.\n",
      "Copyright (c) 2001-2019, The GROMACS development team at\n",
      "Uppsala University, Stockholm University and\n",
      "the Royal Institute of Technology, Sweden.\n",
      "check out http://www.gromacs.org for more information.\n",
      "\n",
      "GROMACS is free software; you can redistribute it and/or modify it\n",
      "under the terms of the GNU Lesser General Public License\n",
      "as published by the Free Software Foundation; either version 2.1\n",
      "of the License, or (at your option) any later version.\n",
      "\n",
      "GROMACS:      gmx energy, version 2021-dev-20210128-6a0b0c4-dirty-unknown\n",
      "Executable:   /usr/local/gromacs/avx2_256/bin/gmx\n",
      "Data prefix:  /usr/local/gromacs/avx2_256\n",
      "Working dir:  /home/snit.san/slurm-magic/Slurm-jupyter-notebook/gromacs_job\n",
      "Command line:\n",
      "  gmx energy -f npt.edr -o pressure.xvg\n",
      "\n",
      "Opened npt.edr as single precision energy file\n",
      "\n",
      "Select the terms you want from the following list by\n",
      "selecting either (part of) the name or the number or a combination.\n",
      "End your selection with an empty line or a zero.\n",
      "-------------------------------------------------------------------\n",
      "  1  Bond             2  Angle            3  Proper-Dih.      4  Ryckaert-Bell.\n",
      "  5  LJ-14            6  Coulomb-14       7  LJ-(SR)          8  Disper.-corr. \n",
      "  9  Coulomb-(SR)    10  Coul.-recip.    11  Potential       12  Kinetic-En.   \n",
      " 13  Total-Energy    14  Conserved-En.   15  Temperature     16  Pres.-DC      \n",
      " 17  Pressure        18  Constr.-rmsd    19  Box-X           20  Box-Y         \n",
      " 21  Box-Z           22  Volume          23  Density         24  pV            \n",
      " 25  Enthalpy        26  Vir-XX          27  Vir-XY          28  Vir-XZ        \n",
      " 29  Vir-YX          30  Vir-YY          31  Vir-YZ          32  Vir-ZX        \n",
      " 33  Vir-ZY          34  Vir-ZZ          35  Pres-XX         36  Pres-XY       \n",
      " 37  Pres-XZ         38  Pres-YX         39  Pres-YY         40  Pres-YZ       \n",
      " 41  Pres-ZX         42  Pres-ZY         43  Pres-ZZ         44  #Surf*SurfTen \n",
      " 45  Box-Vel-XX      46  Box-Vel-YY      47  Box-Vel-ZZ      48  T-Protein     \n",
      " 49  T-non-Protein                       50  Lamb-Protein                      \n",
      " 51  Lamb-non-Protein                  \n",
      "\n",
      "\n",
      "Back Off! I just backed up pressure.xvg to ./#pressure.xvg.2#\n",
      "\r",
      "Reading energy frame      0 time    0.000         \r",
      "Reading energy frame      1 time    1.000         \r",
      "Reading energy frame      2 time    2.000         \r",
      "Reading energy frame      3 time    3.000         \r",
      "Reading energy frame      4 time    4.000         \r",
      "Reading energy frame      5 time    5.000         \r",
      "Reading energy frame      6 time    6.000         \r",
      "Reading energy frame      7 time    7.000         \r",
      "Reading energy frame      8 time    8.000         \r",
      "Reading energy frame      9 time    9.000         \r",
      "Reading energy frame     10 time   10.000         \r",
      "Reading energy frame     11 time   11.000         \r",
      "Reading energy frame     12 time   12.000         \r",
      "Reading energy frame     13 time   13.000         \r",
      "Reading energy frame     14 time   14.000         \r",
      "Reading energy frame     15 time   15.000         \r",
      "Reading energy frame     16 time   16.000         \r",
      "Reading energy frame     17 time   17.000         \r",
      "Reading energy frame     18 time   18.000         \r",
      "Reading energy frame     19 time   19.000         \r",
      "Reading energy frame     20 time   20.000         \r",
      "Reading energy frame     30 time   30.000         \r",
      "Reading energy frame     40 time   40.000         \r",
      "Reading energy frame     50 time   50.000         \r",
      "Reading energy frame     60 time   60.000         \r",
      "Reading energy frame     70 time   70.000         \r",
      "Reading energy frame     80 time   80.000         \r",
      "Reading energy frame     90 time   90.000         \r",
      "Reading energy frame    100 time  100.000         \r",
      "Reading energy frame    110 time  110.000         \r",
      "Reading energy frame    120 time  120.000         \r",
      "Reading energy frame    130 time  130.000         \r",
      "Reading energy frame    140 time  140.000         \r",
      "Reading energy frame    150 time  150.000         \r",
      "Reading energy frame    160 time  160.000         \r",
      "Reading energy frame    170 time  170.000         \r",
      "Reading energy frame    180 time  180.000         \r",
      "Reading energy frame    190 time  190.000         \r",
      "Reading energy frame    200 time  200.000         \r",
      "Reading energy frame    300 time  300.000         \r",
      "Last energy frame read 327 time  327.000         \n",
      "\n",
      "GROMACS reminds you: \"If you want to destroy my sweater, hold this thread as I walk away.\" (Weezer)\n",
      "\n"
     ]
    }
   ],
   "source": [
    "%%bash\n",
    "module use /shared/software/software/mulabs\n",
    "module load gromacs/2021\n",
    "echo \"Temperature\" | gmx energy -f npt.edr -o temperature.xvg\n",
    "echo \"Density\" | gmx energy -f npt.edr -o density.xvg\n",
    "echo \"Pressure\" | gmx  energy -f npt.edr -o pressure.xvg"
   ]
  },
  {
   "cell_type": "markdown",
   "metadata": {},
   "source": [
    "define a function to extract data from the processed Gromacs xvg files"
   ]
  },
  {
   "cell_type": "code",
   "execution_count": 38,
   "metadata": {},
   "outputs": [],
   "source": [
    "def get_prop(prop):\n",
    "    \"\"\"Extract system property (Temperature, Pressure, Potential, or Density)\n",
    "    from a GROMACS xvg file. Returns lists of time and property.\"\"\"\n",
    "\n",
    "    x = []\n",
    "    y = []\n",
    "\n",
    "    f_prop = open(\"%s.xvg\" % prop, 'r')\n",
    "    for line in f_prop:\n",
    "        if line[0] == '#' or line[0] == '@':\n",
    "            continue\n",
    "        content = line.split()\n",
    "        x.append(float(content[0]))\n",
    "        y.append(float(content[1]))\n",
    "    f_prop.close()\n",
    "\n",
    "    return x,y"
   ]
  },
  {
   "cell_type": "markdown",
   "metadata": {},
   "source": [
    "Having got data column from gromacs, we shoud diplay graph on Notebook using __matplotlib__."
   ]
  },
  {
   "cell_type": "code",
   "execution_count": 42,
   "metadata": {},
   "outputs": [
    {
     "data": {
      "text/plain": [
       "[<matplotlib.lines.Line2D at 0x7f3e490ecfd0>]"
      ]
     },
     "execution_count": 42,
     "metadata": {},
     "output_type": "execute_result"
    },
    {
     "data": {
      "image/png": "[encoded data removed]",
      "text/plain": [
       "<Figure size 432x288 with 1 Axes>"
      ]
     },
     "metadata": {
      "needs_background": "light"
     },
     "output_type": "display_data"
    }
   ],
   "source": [
    "import matplotlib.pyplot as plt\n",
    "%matplotlib inline\n",
    "\n",
    "time,dens = get_prop(\"density\")\n",
    "plt.plot(time,dens)\n",
    "\n",
    "plt.xlabel('Simulation time [ps]')\n",
    "plt.ylabel('Density [kg/m$^3$]')\n",
    "plt.plot(time,dens)\n",
    "\n",
    "time,pres = get_prop(\"pressure\")\n",
    "plt.plot(time,pres)"
   ]
  },
  {
   "cell_type": "code",
   "execution_count": 43,
   "metadata": {},
   "outputs": [
    {
     "data": {
      "text/plain": [
       "[<matplotlib.lines.Line2D at 0x7f3e49066dc0>]"
      ]
     },
     "execution_count": 43,
     "metadata": {},
     "output_type": "execute_result"
    },
    {
     "data": {
      "image/png": "[encoded data removed]",
      "text/plain": [
       "<Figure size 432x288 with 1 Axes>"
      ]
     },
     "metadata": {
      "needs_background": "light"
     },
     "output_type": "display_data"
    }
   ],
   "source": [
    "plt.plot(dens,pres[:len(dens)],'b+')"
   ]
  },
  {
   "cell_type": "markdown",
   "metadata": {},
   "source": [
    "References:\n",
    "    1. Slurm-magin\n",
    "        https://github.com/NERSC/slurm-magic\n",
    "    2. Using Jupyter Notebooks to manage SLURM jobs\n",
    "    https://www.kth.se/blogs/pdc/2019/01/using-jupyter-notebooks-to-manage-slurm-jobs/\n",
    "        \n",
    "    3. GROMACS tutorial\n",
    "    http://www.mdtutorials.com/gmx/lysozyme/index.html\n",
    "        \n",
    "    4. Using Jupyter Notebooks to manage SLURM jobs\n",
    "    https://www.kth.se/blogs/pdc/2019/01/using-jupyter-notebooks-to-manage-slurm-jobs/"
   ]
  }
 ],
 "metadata": {
  "kernelspec": {
   "display_name": "Python 3 (ipykernel)",
   "language": "python",
   "name": "python3"
  },
  "language_info": {
   "codemirror_mode": {
    "name": "ipython",
    "version": 3
   },
   "file_extension": ".py",
   "mimetype": "text/x-python",
   "name": "python",
   "nbconvert_exporter": "python",
   "pygments_lexer": "ipython3",
   "version": "3.10.4"
  }
 },
 "nbformat": 4,
 "nbformat_minor": 4
}
