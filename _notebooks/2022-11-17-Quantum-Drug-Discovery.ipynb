{
 "cells": [
  {
   "cell_type": "markdown",
   "id": "4d2ea6f4",
   "metadata": {},
   "source": [
    "# Drug Discovery: Protein Folding on IBM's Qiskit Quantum Information Framework : NVIDIA A100 exascale.mahidol.ac.th"
   ]
  },
  {
   "cell_type": "markdown",
   "id": "f5eff117",
   "metadata": {},
   "source": [
    "Before Covid there is shown of obstacles for Quantum Supremacy[7]. December 2021, simulating the sycamore quantum supremacy circuit hooked our future \"optimazation algorithms\" imagination[8]. After than we have worked cuQuantum but there is not progress after a year. Until we get one motivation that we can try quantum information on GPU[9]. Finally, end up with IBM's Qiskit framework for two reasons that very youtube video and tutorial[10]. The second that Qiskit drawn our attention is \"Protien folding\"[11]. Having benn tried on QAOA on GPUs, we are VQE is promissing. \n",
    "\n",
    "The follo detail actual 99.9999% from the source [11] with modigy to run on GPUs and cuQuantum.\n"
   ]
  },
  {
   "cell_type": "markdown",
   "id": "aa2fe29c",
   "metadata": {},
   "source": [
    "### Introduction"
   ]
  },
  {
   "cell_type": "markdown",
   "id": "ffa82037",
   "metadata": {},
   "source": [
    "The structure and function of many natural and human-engineered\n",
    "proteins is still only poorly understood. As a result, our understanding of\n",
    "processes connected with protein folding, such as those encountered in\n",
    "Alzheimer’s disease, vaccine development, and crop improvement\n",
    "research, has remained limited.\n",
    "\n",
    "Unfolded polypeptides have a very large number of degrees of freedom\n",
    "and thus an enormous number of potential conformations. For example, a\n",
    "chain with $100$ aminoacids has on the order of $10^{47}$ conformations. In\n",
    "reality, however, many proteins fold to their native structure within\n",
    "seconds. This is known as Levinthal’s paradox [1].\n",
    "\n",
    "The exponential growth of potential conformations with chain length\n",
    "makes the problem intractable for classical computers. In the quantum\n",
    "framework, our resource-efficient algorithm scales linearly with\n",
    "the number of aminoacids N."
   ]
  },
  {
   "cell_type": "markdown",
   "id": "58f24401",
   "metadata": {},
   "source": [
    "The goal of this work is to determine the minimum energy conformation of a protein. Starting from a random configuration, the protein's structure is optimized to lower the energy. This can be achieved by encoding the protein folding problem into a qubit operator and ensuring that all physical constraints are satisfied. "
   ]
  },
  {
   "cell_type": "markdown",
   "id": "76928cec",
   "metadata": {},
   "source": [
    "For the problem encoding we use: \n",
    "\n",
    "- Configuration qubits: qubits that are used to describe the configurations and the relative position of the different beads\n",
    "\n",
    "- Interaction qubits: qubits that encode interactions between the different aminoacids\n",
    "\n",
    "For our case we use a tetrahedral lattice (diamond shape lattice) where we encode the movement through the configuration qubits (see image below). \n",
    "\n",
    "<img src=\"https://raw.githubusercontent.com/qiskit-research/qiskit-research/183e18e24aab2580922625a91b93df4eb8778e9c/docs/protein_folding/aux_files/lattice_protein.png\" width=\"300\">"
   ]
  },
  {
   "cell_type": "markdown",
   "id": "50dc1324",
   "metadata": {},
   "source": [
    "The Hamiltonian of the system for a set of qubits $\\mathbf{q}=\\{\\mathbf{q}_{cf}, \\mathbf{q}_{in}\\}$ is \n",
    "\n",
    "$$H(\\mathbf{q}) = H_{gc}(\\mathbf{q}_{cf}) + H_{ch}(\\mathbf{q}_{cf}) + H_{in}(\\mathbf{q}_{cf}, \\mathbf{q}_{in}) $$\n",
    "\n",
    "where \n",
    "\n",
    "- $H_{gc}$ is the geometrical constraint term (governing the growth of the primary sequence of aminoacids without bifurcations)\n",
    "\n",
    "- $H_{ch}$ is the chirality constraint (enforcing the right stereochemistry for the system)\n",
    "\n",
    "- $H_{in}$ is the interaction energy terms of the system. In our case we consider only nearest neighbor interactions. "
   ]
  },
  {
   "cell_type": "markdown",
   "id": "0d7f4dbb",
   "metadata": {},
   "source": [
    "Further details about the used model and the encoding of the problem can be found in [2]."
   ]
  },
  {
   "cell_type": "code",
   "execution_count": null,
   "id": "57be0985",
   "metadata": {},
   "outputs": [],
   "source": [
    "! git clone https://github.com/qiskit-research/qiskit-research.git\n",
    "! cd qiskit-research && pip install .\n",
    "\n"
   ]
  },
  {
   "cell_type": "code",
   "execution_count": 1,
   "id": "4a022975",
   "metadata": {
    "pycharm": {
     "is_executing": true
    }
   },
   "outputs": [],
   "source": [
    "from qiskit_research.protein_folding.interactions.random_interaction import (\n",
    "    RandomInteraction,\n",
    ")\n",
    "from qiskit_research.protein_folding.interactions.miyazawa_jernigan_interaction import (\n",
    "    MiyazawaJerniganInteraction,\n",
    ")\n",
    "from qiskit_research.protein_folding.peptide.peptide import Peptide\n",
    "from qiskit_research.protein_folding.protein_folding_problem import (\n",
    "    ProteinFoldingProblem,\n",
    ")\n",
    "\n",
    "from qiskit_research.protein_folding.penalty_parameters import PenaltyParameters\n",
    "\n",
    "from qiskit.utils import algorithm_globals, QuantumInstance\n",
    "\n",
    "algorithm_globals.random_seed = 23"
   ]
  },
  {
   "cell_type": "markdown",
   "id": "51e540f5",
   "metadata": {},
   "source": [
    "### Protein Main Chain"
   ]
  },
  {
   "cell_type": "markdown",
   "id": "15a69286",
   "metadata": {},
   "source": [
    "The Protein consists of a main chain that is a linear chain of aminoacids. For the naming of different residues we use the one-letter code as defined in Ref. [3]. Further details about the naming and the type of aminoacids can also be found in [4].\n",
    "\n",
    "For this particular case we demonstrate the generation of the qubit operator in a neuropeptide with the main chain consisting of 7 aminoacids with letter codes APRLRFY (see also [2])."
   ]
  },
  {
   "cell_type": "code",
   "execution_count": 2,
   "id": "b78d077a",
   "metadata": {},
   "outputs": [],
   "source": [
    "main_chain = \"APRLRFY\""
   ]
  },
  {
   "cell_type": "markdown",
   "id": "2b28a00e",
   "metadata": {},
   "source": [
    "### Side Chains"
   ]
  },
  {
   "cell_type": "markdown",
   "id": "b99c81a8",
   "metadata": {},
   "source": [
    "Beyond the main chain of the protein there may be aminoacids attached to the residues of the main chain. Our model allows for side chains of the maximum length of one. Elongated side chains would require the introduction of additional penalty terms which are still under development. In this example we do not consider any side chains to keep the real structure of the neuropeptide. "
   ]
  },
  {
   "cell_type": "code",
   "execution_count": 3,
   "id": "f0cea914",
   "metadata": {},
   "outputs": [],
   "source": [
    "side_chains = [\"\"] * 7"
   ]
  },
  {
   "cell_type": "markdown",
   "id": "203e288b",
   "metadata": {},
   "source": [
    "### Interaction between Aminoacids"
   ]
  },
  {
   "cell_type": "markdown",
   "id": "72ff748d",
   "metadata": {},
   "source": [
    "For the description of inter-residue contacts for proteins we use knowledge-based (statistical) potentials derived using quasi-chemical approximation. The potentials used here are introduced by Miyazawa, S. and Jernigan, R. L. in [5]. \n",
    "\n",
    "Beyond this model we also allow for random contact maps (interactions) that provide a random interaction map. One can also introduce a custom interaction map that enhances certain configurations of the protein (e.g. alpha helix, beta sheet etc). "
   ]
  },
  {
   "cell_type": "code",
   "execution_count": 4,
   "id": "cca5df13",
   "metadata": {},
   "outputs": [],
   "source": [
    "random_interaction = RandomInteraction()\n",
    "mj_interaction = MiyazawaJerniganInteraction()"
   ]
  },
  {
   "cell_type": "markdown",
   "id": "bb5c3ec8",
   "metadata": {},
   "source": [
    "### Physical Constraints"
   ]
  },
  {
   "cell_type": "markdown",
   "id": "5adb4c73",
   "metadata": {},
   "source": [
    "To ensure that all physical constraints are respected we introduce penalty functions. The different penalty terms used are: \n",
    "\n",
    "- penalty_chiral: A penalty parameter used to impose the right chirality.\n",
    "\n",
    "- penalty_back: A penalty parameter used to penalize turns along the same axis. This term is used to eliminate sequences where the same axis is chosen twice in a row. In this way we do not allow for a chain to fold back into itself.\n",
    "\n",
    "- penalty_1: A penalty parameter used to penalize local overlap between beads within a nearest neighbor contact."
   ]
  },
  {
   "cell_type": "code",
   "execution_count": 5,
   "id": "d96678c3",
   "metadata": {},
   "outputs": [],
   "source": [
    "penalty_back = 10\n",
    "penalty_chiral = 10\n",
    "penalty_1 = 10\n",
    "\n",
    "penalty_terms = PenaltyParameters(penalty_chiral, penalty_back, penalty_1)"
   ]
  },
  {
   "cell_type": "markdown",
   "id": "29807064",
   "metadata": {},
   "source": [
    "### Peptide Definition\n"
   ]
  },
  {
   "cell_type": "markdown",
   "id": "3eafb4dd",
   "metadata": {},
   "source": [
    "Based on the main chain and possible side chains we define the peptide object that includes all the structural information of the modeled system."
   ]
  },
  {
   "cell_type": "code",
   "execution_count": 6,
   "id": "94b24aec",
   "metadata": {},
   "outputs": [],
   "source": [
    "peptide = Peptide(main_chain, side_chains)"
   ]
  },
  {
   "cell_type": "markdown",
   "id": "48deb63f",
   "metadata": {},
   "source": [
    "### Protein Folding Problem "
   ]
  },
  {
   "cell_type": "markdown",
   "id": "729f35c0",
   "metadata": {},
   "source": [
    "Based on the defined peptide, the interaction (contact map) and the penalty terms we defined for our model we define the protein folding problem that returns qubit operators.\n"
   ]
  },
  {
   "cell_type": "code",
   "execution_count": 7,
   "id": "8d0408ed",
   "metadata": {},
   "outputs": [],
   "source": [
    "protein_folding_problem = ProteinFoldingProblem(peptide, mj_interaction, penalty_terms)\n",
    "qubit_op = protein_folding_problem.qubit_op()"
   ]
  },
  {
   "cell_type": "code",
   "execution_count": 8,
   "id": "29860ed3",
   "metadata": {
    "scrolled": true
   },
   "outputs": [
    {
     "name": "stdout",
     "output_type": "stream",
     "text": [
      "1613.5895000000003 * IIIIIIIII\n",
      "+ 487.5 * IIIIIIZII\n",
      "- 192.5 * IIIIIIIZZ\n",
      "+ 192.5 * IIIIIIZZZ\n",
      "- 195.0 * IIIIZIZII\n",
      "- 195.0 * IIIIIZIZI\n",
      "- 195.0 * IIIIZZZZI\n",
      "- 95.0 * IIZIZIIII\n",
      "- 95.0 * IIIZIZIII\n",
      "- 95.0 * IIZZZZIII\n",
      "+ 295.0 * IIIIIIZZI\n",
      "- 497.5 * IIIIZIIII\n",
      "- 300.0 * IIIIZZIII\n",
      "+ 195.0 * IIIIIIIIZ\n",
      "+ 197.5 * IIIIIZIIZ\n",
      "- 197.5 * IIIIZZIIZ\n",
      "- 904.2875 * IZIIIIIII\n",
      "- 295.0 * IZIIIIZII\n",
      "- 197.5 * IZIIIIZZI\n",
      "+ 302.5 * IZIIZIIII\n",
      "+ 202.5 * IZIIZZIII\n",
      "+ 100.0 * IZIIZIZII\n",
      "+ 100.0 * IZIIIZIZI\n",
      "+ 100.0 * IZIIZZZZI\n",
      "- 200.0 * IZIIIIIIZ\n",
      "+ 97.5 * IZIIIIIZZ\n",
      "- 97.5 * IZIIIIZZZ\n",
      "- 100.0 * IZIIIZIIZ\n",
      "+ 100.0 * IZIIZZIIZ\n",
      "+ 100.0 * IIIIIIIZI\n",
      "- 100.0 * IIIIIZIII\n",
      "+ 2.5 * IZIIIIIZI\n",
      "- 2.5 * IZIIIZIII\n",
      "+ 192.5 * IIZIIIIII\n",
      "+ 95.0 * IIZZIIIII\n",
      "+ 97.5 * IIZIIIZII\n",
      "+ 97.5 * IIIZIIIZI\n",
      "+ 97.5 * IIZZIIZZI\n",
      "- 97.5 * IIIZIIIIZ\n",
      "+ 97.5 * IIZZIIIIZ\n",
      "+ 7.5 * IZZIIIIII\n",
      "+ 5.0 * IZZZIIIII\n",
      "+ 2.5 * IZZIIIZII\n",
      "+ 2.5 * IZIZIIIZI\n",
      "+ 2.5 * IZZZIIZZI\n",
      "- 2.5 * IZZIZIIII\n",
      "- 2.5 * IZIZIZIII\n",
      "- 2.5 * IZZZZZIII\n",
      "- 2.5 * IZIZIIIIZ\n",
      "+ 2.5 * IZZZIIIIZ\n",
      "+ 105.0 * IIIZIIIII\n",
      "- 701.802 * ZIIIIIIII\n",
      "- 195.0 * ZIIIIIZII\n",
      "- 102.5 * ZIIIIIIZI\n",
      "- 97.5 * ZIIIIIZZI\n",
      "+ 195.0 * ZIIIZIIII\n",
      "+ 102.5 * ZIIIIZIII\n",
      "+ 97.5 * ZIIIZZIII\n",
      "- 200.0 * ZIZIIIIII\n",
      "- 105.0 * ZIIZIIIII\n",
      "- 100.0 * ZIZZIIIII\n",
      "+ 97.5 * ZIIIZIZII\n",
      "- 100.0 * ZIZIIIZII\n",
      "+ 97.5 * ZIIIIZIZI\n",
      "- 100.0 * ZIIZIIIZI\n",
      "+ 97.5 * ZIIIZZZZI\n",
      "- 100.0 * ZIZZIIZZI\n",
      "+ 100.0 * ZIZIZIIII\n",
      "+ 100.0 * ZIIZIZIII\n",
      "+ 100.0 * ZIZZZZIII\n",
      "+ 97.5 * ZIIIIIIZZ\n",
      "- 97.5 * ZIIIIIZZZ\n",
      "- 97.5 * ZIIIIZIIZ\n",
      "+ 97.5 * ZIIIZZIIZ\n",
      "+ 100.0 * ZIIZIIIIZ\n",
      "- 100.0 * ZIZZIIIIZ\n",
      "+ 5.0 * ZIIIIIIIZ\n"
     ]
    }
   ],
   "source": [
    "print(qubit_op)"
   ]
  },
  {
   "cell_type": "markdown",
   "id": "441ccc74",
   "metadata": {},
   "source": [
    "### Using VQE with CVaR expectation value for the solution of the problem"
   ]
  },
  {
   "cell_type": "markdown",
   "id": "e99e05de",
   "metadata": {},
   "source": [
    "The problem that we are tackling has now implemented all the physical constraints and has a diagonal Hamiltonian. For the particular case we are targeting the single bitstring that gives us the minimum energy (corresponding to the folded structure of the protein). Thus, we can use the Variational Quantum Eigensolver with Conditional Value at Risk (CVaR) expectation values for the solution of the problem and for finding the minimum configuration energy [6] . We follow the same approach as in Ref. [2] but here we use COBYLA for the classical optimization part. One can also use the standard VQE or QAOA algorithm for the solution of the problem, though as discussed in Ref. [2] CVaR is more suitable. "
   ]
  },
  {
   "cell_type": "code",
   "execution_count": 10,
   "id": "5eb95499",
   "metadata": {
    "scrolled": false
   },
   "outputs": [
    {
     "name": "stderr",
     "output_type": "stream",
     "text": [
      "/home/snit.san/miniconda3/envs/Qiskit/lib/python3.10/site-packages/qiskit/algorithms/minimum_eigen_solvers/vqe.py:625: RuntimeWarning: invalid value encountered in sqrt\n",
      "  estimator_error = np.sqrt(variance / self.quantum_instance.run_config.shots)\n"
     ]
    },
    {
     "name": "stdout",
     "output_type": "stream",
     "text": [
      "22.066488650000004\n",
      "{   'aux_operator_eigenvalues': None,\n",
      "    'cost_function_evals': 50,\n",
      "    'eigenstate': {   '000000101': 0.015625,\n",
      "                      '000000110': 0.029231698334171417,\n",
      "                      '000000111': 0.011048543456039806,\n",
      "                      '000010000': 0.011048543456039806,\n",
      "                      '000010101': 0.011048543456039806,\n",
      "                      '000010110': 0.019136638615493577,\n",
      "                      '000110110': 0.011048543456039806,\n",
      "                      '000111000': 0.011048543456039806,\n",
      "                      '000111001': 0.011048543456039806,\n",
      "                      '001000000': 0.038273277230987154,\n",
      "                      '001000001': 0.06810779599282303,\n",
      "                      '001000010': 0.06346905003621844,\n",
      "                      '001000011': 0.015625,\n",
      "                      '001000101': 0.15934435979977452,\n",
      "                      '001000110': 0.2910615001593306,\n",
      "                      '001000111': 0.05182226234930312,\n",
      "                      '001001000': 0.036643873123620545,\n",
      "                      '001001001': 0.0924387466109315,\n",
      "                      '001001010': 0.07328774624724109,\n",
      "                      '001001100': 0.011048543456039806,\n",
      "                      '001001101': 0.03125,\n",
      "                      '001001110': 0.059498227389561786,\n",
      "                      '001010000': 0.019136638615493577,\n",
      "                      '001010001': 0.029231698334171417,\n",
      "                      '001010010': 0.02209708691207961,\n",
      "                      '001010011': 0.011048543456039806,\n",
      "                      '001010100': 0.011048543456039806,\n",
      "                      '001010101': 0.09568319307746789,\n",
      "                      '001010110': 0.16275520824999734,\n",
      "                      '001010111': 0.03983608994994363,\n",
      "                      '001011001': 0.02209708691207961,\n",
      "                      '001011010': 0.011048543456039806,\n",
      "                      '001011100': 0.011048543456039806,\n",
      "                      '001011101': 0.036643873123620545,\n",
      "                      '001011110': 0.05740991584648074,\n",
      "                      '001100001': 0.03125,\n",
      "                      '001100010': 0.019136638615493577,\n",
      "                      '001100101': 0.03314563036811941,\n",
      "                      '001100110': 0.07328774624724109,\n",
      "                      '001100111': 0.015625,\n",
      "                      '001101000': 0.06987712429686843,\n",
      "                      '001101001': 0.13975424859373686,\n",
      "                      '001101010': 0.10597390598633231,\n",
      "                      '001101011': 0.036643873123620545,\n",
      "                      '001101101': 0.034938562148434216,\n",
      "                      '001101110': 0.06899813176818631,\n",
      "                      '001110000': 0.05633673867912483,\n",
      "                      '001110001': 0.11587810136086973,\n",
      "                      '001110010': 0.0897587913521567,\n",
      "                      '001110011': 0.024705294220065465,\n",
      "                      '001110101': 0.11744762795603834,\n",
      "                      '001110110': 0.22371595411369302,\n",
      "                      '001110111': 0.0427908248050911,\n",
      "                      '001111000': 0.12153397801643785,\n",
      "                      '001111001': 0.2602864257649638,\n",
      "                      '001111010': 0.21079277442550065,\n",
      "                      '001111011': 0.03983608994994363,\n",
      "                      '001111101': 0.015625,\n",
      "                      '001111110': 0.027063293868263706,\n",
      "                      '010000001': 0.015625,\n",
      "                      '010000010': 0.015625,\n",
      "                      '010000101': 0.029231698334171417,\n",
      "                      '010000110': 0.046875,\n",
      "                      '010000111': 0.011048543456039806,\n",
      "                      '010001000': 0.011048543456039806,\n",
      "                      '010001001': 0.02209708691207961,\n",
      "                      '010001010': 0.019136638615493577,\n",
      "                      '010001110': 0.011048543456039806,\n",
      "                      '010001111': 0.011048543456039806,\n",
      "                      '010010001': 0.011048543456039806,\n",
      "                      '010010101': 0.02209708691207961,\n",
      "                      '010010110': 0.029231698334171417,\n",
      "                      '010010111': 0.011048543456039806,\n",
      "                      '010011110': 0.011048543456039806,\n",
      "                      '010100101': 0.015625,\n",
      "                      '010100110': 0.02209708691207961,\n",
      "                      '010101000': 0.011048543456039806,\n",
      "                      '010101001': 0.029231698334171417,\n",
      "                      '010101010': 0.02209708691207961,\n",
      "                      '010101101': 0.011048543456039806,\n",
      "                      '010101110': 0.019136638615493577,\n",
      "                      '010110000': 0.015625,\n",
      "                      '010110001': 0.02209708691207961,\n",
      "                      '010110010': 0.015625,\n",
      "                      '010110101': 0.02209708691207961,\n",
      "                      '010110110': 0.034938562148434216,\n",
      "                      '010111000': 0.027063293868263706,\n",
      "                      '010111001': 0.05633673867912483,\n",
      "                      '010111010': 0.05063078670631141,\n",
      "                      '010111011': 0.011048543456039806,\n",
      "                      '011000101': 0.011048543456039806,\n",
      "                      '011000110': 0.015625,\n",
      "                      '011001010': 0.011048543456039806,\n",
      "                      '011101010': 0.011048543456039806,\n",
      "                      '011110110': 0.011048543456039806,\n",
      "                      '011111001': 0.02209708691207961,\n",
      "                      '011111010': 0.02209708691207961,\n",
      "                      '100000001': 0.019136638615493577,\n",
      "                      '100000100': 0.011048543456039806,\n",
      "                      '100000101': 0.015625,\n",
      "                      '100000110': 0.029231698334171417,\n",
      "                      '100010010': 0.011048543456039806,\n",
      "                      '100010101': 0.011048543456039806,\n",
      "                      '100010110': 0.029231698334171417,\n",
      "                      '100110010': 0.011048543456039806,\n",
      "                      '100110110': 0.011048543456039806,\n",
      "                      '100111001': 0.015625,\n",
      "                      '100111010': 0.015625,\n",
      "                      '101000000': 0.04555431167847891,\n",
      "                      '101000001': 0.08193819126329309,\n",
      "                      '101000010': 0.061515686515717274,\n",
      "                      '101000011': 0.02209708691207961,\n",
      "                      '101000100': 0.015625,\n",
      "                      '101000101': 0.16350351200356522,\n",
      "                      '101000110': 0.31483502624390447,\n",
      "                      '101000111': 0.04941058844013093,\n",
      "                      '101001000': 0.034938562148434216,\n",
      "                      '101001001': 0.09043622580304864,\n",
      "                      '101001010': 0.08118988160479113,\n",
      "                      '101001011': 0.024705294220065465,\n",
      "                      '101001101': 0.02209708691207961,\n",
      "                      '101001110': 0.06051536478449089,\n",
      "                      '101001111': 0.019136638615493577,\n",
      "                      '101010000': 0.02209708691207961,\n",
      "                      '101010001': 0.015625,\n",
      "                      '101010010': 0.02209708691207961,\n",
      "                      '101010101': 0.0897587913521567,\n",
      "                      '101010110': 0.16275520824999734,\n",
      "                      '101010111': 0.024705294220065465,\n",
      "                      '101011010': 0.015625,\n",
      "                      '101011100': 0.011048543456039806,\n",
      "                      '101011101': 0.019136638615493577,\n",
      "                      '101011110': 0.05412658773652741,\n",
      "                      '101011111': 0.019136638615493577,\n",
      "                      '101100000': 0.011048543456039806,\n",
      "                      '101100001': 0.027063293868263706,\n",
      "                      '101100010': 0.015625,\n",
      "                      '101100101': 0.03314563036811941,\n",
      "                      '101100110': 0.06810779599282303,\n",
      "                      '101100111': 0.011048543456039806,\n",
      "                      '101101000': 0.06346905003621844,\n",
      "                      '101101001': 0.12597277731716483,\n",
      "                      '101101010': 0.10825317547305482,\n",
      "                      '101101011': 0.036643873123620545,\n",
      "                      '101101101': 0.05063078670631141,\n",
      "                      '101101110': 0.07574499777213015,\n",
      "                      '101101111': 0.015625,\n",
      "                      '101110000': 0.059498227389561786,\n",
      "                      '101110001': 0.12052537984798056,\n",
      "                      '101110010': 0.09631896879639025,\n",
      "                      '101110011': 0.02209708691207961,\n",
      "                      '101110101': 0.1269381000724369,\n",
      "                      '101110110': 0.23593232610221093,\n",
      "                      '101110111': 0.034938562148434216,\n",
      "                      '101111000': 0.12979099785809492,\n",
      "                      '101111001': 0.2679129406169101,\n",
      "                      '101111010': 0.22803936748947537,\n",
      "                      '101111011': 0.048159484398195125,\n",
      "                      '101111100': 0.011048543456039806,\n",
      "                      '101111101': 0.011048543456039806,\n",
      "                      '101111110': 0.034938562148434216,\n",
      "                      '110000010': 0.019136638615493577,\n",
      "                      '110000101': 0.03125,\n",
      "                      '110000110': 0.05846339666834283,\n",
      "                      '110000111': 0.011048543456039806,\n",
      "                      '110001001': 0.019136638615493577,\n",
      "                      '110001010': 0.011048543456039806,\n",
      "                      '110001110': 0.015625,\n",
      "                      '110010001': 0.011048543456039806,\n",
      "                      '110010101': 0.011048543456039806,\n",
      "                      '110010110': 0.038273277230987154,\n",
      "                      '110100010': 0.011048543456039806,\n",
      "                      '110100011': 0.011048543456039806,\n",
      "                      '110100100': 0.011048543456039806,\n",
      "                      '110101000': 0.02209708691207961,\n",
      "                      '110101001': 0.03125,\n",
      "                      '110101010': 0.011048543456039806,\n",
      "                      '110101110': 0.015625,\n",
      "                      '110110001': 0.011048543456039806,\n",
      "                      '110110010': 0.015625,\n",
      "                      '110110101': 0.03125,\n",
      "                      '110110110': 0.0427908248050911,\n",
      "                      '110110111': 0.011048543456039806,\n",
      "                      '110111000': 0.019136638615493577,\n",
      "                      '110111001': 0.05633673867912483,\n",
      "                      '110111010': 0.03983608994994363,\n",
      "                      '110111110': 0.011048543456039806,\n",
      "                      '111010110': 0.011048543456039806},\n",
      "    'eigenvalue': (-1.3961062011717185+0j),\n",
      "    'optimal_circuit': None,\n",
      "    'optimal_parameters': {   ParameterVectorElement(θ[3]): 0.9692262567242826,\n",
      "                              ParameterVectorElement(θ[4]): 1.2642867883228641,\n",
      "                              ParameterVectorElement(θ[14]): 0.8463792877027871,\n",
      "                              ParameterVectorElement(θ[16]): -0.014459268936528602,\n",
      "                              ParameterVectorElement(θ[12]): 2.18024157641206,\n",
      "                              ParameterVectorElement(θ[17]): -1.6753431921616952,\n",
      "                              ParameterVectorElement(θ[15]): 3.2569738080876025,\n",
      "                              ParameterVectorElement(θ[13]): 2.7683897737290772,\n",
      "                              ParameterVectorElement(θ[0]): 1.2838423033219764,\n",
      "                              ParameterVectorElement(θ[5]): 3.2075406912327287,\n",
      "                              ParameterVectorElement(θ[7]): -3.0610226240215836,\n",
      "                              ParameterVectorElement(θ[9]): -0.5499117056945564,\n",
      "                              ParameterVectorElement(θ[6]): 2.758502107235997,\n",
      "                              ParameterVectorElement(θ[11]): 1.6613895556624305,\n",
      "                              ParameterVectorElement(θ[10]): 0.783563408369476,\n",
      "                              ParameterVectorElement(θ[8]): 3.062947537861036,\n",
      "                              ParameterVectorElement(θ[1]): 2.5249570586597203,\n",
      "                              ParameterVectorElement(θ[2]): -2.0271296314251086},\n",
      "    'optimal_point': array([ 1.2838423 ,  2.52495706, -2.02712963,  0.96922626,  1.26428679,\n",
      "        3.20754069,  2.75850211, -3.06102262,  3.06294754, -0.54991171,\n",
      "        0.78356341,  1.66138956,  2.18024158,  2.76838977,  0.84637929,\n",
      "        3.25697381, -0.01445927, -1.67534319]),\n",
      "    'optimal_value': -1.3961062011717185,\n",
      "    'optimizer_evals': None,\n",
      "    'optimizer_result': None,\n",
      "    'optimizer_time': 22.18771505355835}\n"
     ]
    }
   ],
   "source": [
    "from qiskit.circuit.library import RealAmplitudes\n",
    "from qiskit.algorithms.optimizers import COBYLA\n",
    "from qiskit.algorithms import NumPyMinimumEigensolver, VQE\n",
    "from qiskit.opflow import PauliExpectation, CVaRExpectation\n",
    "#from qiskit import execute, Aer\n",
    "from qiskit.providers.aer import *\n",
    "\n",
    "import time\n",
    "\n",
    "\n",
    "# set classical optimizer\n",
    "optimizer = COBYLA(maxiter=50)\n",
    "\n",
    "\n",
    "# set variational ansatz\n",
    "ansatz = RealAmplitudes(reps=1)\n",
    "\n",
    "# set the backend\n",
    "#backend_name = \"aer_simulator\"              # CPU configure\n",
    "#backend_name = \"aer_simulator_statevector\"    # GPU configure\n",
    "#backend_name = AerSimulator(method = 'statevector',device = 'GPU', blocking_qubits=20)\n",
    "#backend_name = AerSimulator(method = 'statevector',device = 'GPU')\n",
    "backend_name = AerSimulator(method = 'automatic',device = 'GPU',blocking_qubits=10)\n",
    "#backend_name = AerSimulator(method = 'automatic')\n",
    "#backend_name = 'qasm_simulator'\n",
    "backend = QuantumInstance(\n",
    "#   Aer.get_backend(backend_name),\n",
    "    backend_name,\n",
    "    shots=8192,\n",
    "    seed_transpiler=algorithm_globals.random_seed,\n",
    "    seed_simulator=algorithm_globals.random_seed,\n",
    ")\n",
    "counts = []\n",
    "values = []\n",
    "\n",
    "\n",
    "def store_intermediate_result(eval_count, parameters, mean, std):\n",
    "    counts.append(eval_count)\n",
    "    values.append(mean)\n",
    "\n",
    "\n",
    "# initialize CVaR_alpha objective with alpha = 0.1\n",
    "cvar_exp = CVaRExpectation(0.1, PauliExpectation())\n",
    "\n",
    "# initialize VQE using CVaR\n",
    "vqe = VQE(\n",
    "    expectation=cvar_exp,\n",
    "    #expectation=None,\n",
    "    optimizer=optimizer,\n",
    "    ansatz=ansatz,\n",
    "    quantum_instance=backend,\n",
    "    callback=store_intermediate_result,\n",
    "    #include_custom=True,               # for statevector simulatio, set True, if expectation = None\n",
    ")\n",
    "\n",
    "start = time.process_time()\n",
    "raw_result = vqe.compute_minimum_eigenvalue(qubit_op)\n",
    "print(time.process_time() - start)\n",
    "\n",
    "print(raw_result)"
   ]
  },
  {
   "cell_type": "code",
   "execution_count": 11,
   "id": "7d51e6b4",
   "metadata": {},
   "outputs": [
    {
     "data": {
      "image/png": "[encoded data removed]",
      "text/plain": [
       "<Figure size 640x480 with 2 Axes>"
      ]
     },
     "metadata": {},
     "output_type": "display_data"
    }
   ],
   "source": [
    "import matplotlib.pyplot as plt\n",
    "\n",
    "fig = plt.figure()\n",
    "\n",
    "plt.plot(counts, values)\n",
    "plt.ylabel(\"Conformation Energy\")\n",
    "plt.xlabel(\"VQE Iterations\")\n",
    "\n",
    "fig.add_axes([0.44, 0.51, 0.44, 0.32])\n",
    "\n",
    "plt.plot(counts[40:], values[40:])\n",
    "plt.ylabel(\"Conformation Energy\")\n",
    "plt.xlabel(\"VQE Iterations\")\n",
    "plt.show()"
   ]
  },
  {
   "cell_type": "markdown",
   "id": "002b5c74",
   "metadata": {},
   "source": [
    "### Visualizing the answer"
   ]
  },
  {
   "cell_type": "markdown",
   "id": "2e2b6b22",
   "metadata": {},
   "source": [
    "In order to reduce computational costs, we have reduced the problem's qubit operator to the minimum amount of qubits needed to represent the shape of the protein. In order to decode the answer we need to understand how this has been done.\n",
    "* The shape of the protein has been encoded by a sequence of turns , $\\{0,1,2,3\\}$. Each turn represents a different direction in the lattice.\n",
    "* For a main bead of $N_{aminoacids}$ in a lattice, we need $N_{aminoacids}-1$ turns in order to represent its shape. However, the orientation of the protein is not relevant to its energy. Therefore the first two turns of the shape can be set to $[1,0]$ without loss of generality.\n",
    "* If the second bead does not have any side chain, we can also set the $6^{th}$ qubit to $[1]$ without breaking symmetry.\n",
    "* Since the length of the secondary chains is always limited to $1$ we only need one turn to describe the shape of the chain.\n",
    "\n",
    "The total amount of qubits we need to represent the shape of the protein will be $2(N_{aminoacids}-3)$ if there is a secondary chain coming out of the second bead or $2(N_{aminoacids}-3) - 1$, otherwise. All the other qubits will remain unused during the optimization process. See:"
   ]
  },
  {
   "cell_type": "code",
   "execution_count": 12,
   "id": "49a65992",
   "metadata": {},
   "outputs": [
    {
     "name": "stdout",
     "output_type": "stream",
     "text": [
      "The bitstring representing the shape of the protein during optimization is:  101000110\n",
      "The expanded expression is: 1______0_____________________________________________________________________________________________________________________________100011_0____\n"
     ]
    }
   ],
   "source": [
    "result = protein_folding_problem.interpret(raw_result=raw_result)\n",
    "print(\n",
    "    \"The bitstring representing the shape of the protein during optimization is: \",\n",
    "    result.turn_sequence,\n",
    ")\n",
    "print(\"The expanded expression is:\", result.get_result_binary_vector())"
   ]
  },
  {
   "cell_type": "markdown",
   "id": "19578a0c",
   "metadata": {},
   "source": [
    "Now that we know which qubits encode which information, we can decode the bitstring into the explicit turns that form the shape of the protein."
   ]
  },
  {
   "cell_type": "code",
   "execution_count": 13,
   "id": "f377810d",
   "metadata": {},
   "outputs": [
    {
     "name": "stdout",
     "output_type": "stream",
     "text": [
      "The folded protein's main sequence of turns is: [1, 0, 1, 3, 0, 1]\n",
      "and the side turn sequences are: [None, None, None, None, None, None, None]\n"
     ]
    }
   ],
   "source": [
    "print(\n",
    "    f\"The folded protein's main sequence of turns is: {result.protein_shape_decoder.main_turns}\"\n",
    ")\n",
    "print(f\"and the side turn sequences are: {result.protein_shape_decoder.side_turns}\")"
   ]
  },
  {
   "cell_type": "markdown",
   "id": "de27cfcd",
   "metadata": {},
   "source": [
    "From this sequence of turns we can get the cartesian coordinates of each of the aminoacids of the protein."
   ]
  },
  {
   "cell_type": "code",
   "execution_count": 14,
   "id": "39402e34",
   "metadata": {},
   "outputs": [
    {
     "name": "stdout",
     "output_type": "stream",
     "text": [
      "[['A' '0.0' '0.0' '0.0']\n",
      " ['P' '0.5773502691896258' '0.5773502691896258' '-0.5773502691896258']\n",
      " ['R' '1.1547005383792517' '0.0' '-1.1547005383792517']\n",
      " ['L' '1.7320508075688776' '0.5773502691896258' '-1.7320508075688776']\n",
      " ['R' '1.154700538379252' '1.1547005383792517' '-2.3094010767585034']\n",
      " ['F' '0.5773502691896261' '1.7320508075688776' '-1.7320508075688776']\n",
      " ['Y' '2.220446049250313e-16' '1.154700538379252' '-1.154700538379252']]\n"
     ]
    }
   ],
   "source": [
    "print(result.protein_shape_file_gen.get_xyz_data())"
   ]
  },
  {
   "cell_type": "markdown",
   "id": "d54c6272",
   "metadata": {},
   "source": [
    "And finally, we can also plot the structure of the protein in 3D. Note that when rendered with the proper backend this plot can be interactively rotated."
   ]
  },
  {
   "cell_type": "code",
   "execution_count": 15,
   "id": "a40f8c41",
   "metadata": {},
   "outputs": [
    {
     "data": {
      "image/png": "[encoded data removed]",
      "text/plain": [
       "<Figure size 640x480 with 1 Axes>"
      ]
     },
     "metadata": {},
     "output_type": "display_data"
    }
   ],
   "source": [
    "fig = result.get_figure(title=\"Protein Structure\", ticks=False, grid=True)\n",
    "fig.get_axes()[0].view_init(10, 70)"
   ]
  },
  {
   "cell_type": "markdown",
   "id": "0675bdcc",
   "metadata": {},
   "source": [
    "And here is an example with side chains."
   ]
  },
  {
   "cell_type": "code",
   "execution_count": 16,
   "id": "105a473a",
   "metadata": {},
   "outputs": [],
   "source": [
    "peptide = Peptide(\"APRLR\", [\"\", \"\", \"F\", \"Y\", \"\"])\n",
    "protein_folding_problem = ProteinFoldingProblem(peptide, mj_interaction, penalty_terms)\n",
    "qubit_op = protein_folding_problem.qubit_op()\n",
    "raw_result = vqe.compute_minimum_eigenvalue(qubit_op)\n",
    "result_2 = protein_folding_problem.interpret(raw_result=raw_result)"
   ]
  },
  {
   "cell_type": "code",
   "execution_count": 17,
   "id": "4b0aa85e",
   "metadata": {},
   "outputs": [
    {
     "data": {
      "image/png": "[encoded data removed]",
      "text/plain": [
       "<Figure size 640x480 with 1 Axes>"
      ]
     },
     "metadata": {},
     "output_type": "display_data"
    }
   ],
   "source": [
    "fig = result_2.get_figure(title=\"Protein Structure\", ticks=False, grid=True)\n",
    "fig.get_axes()[0].view_init(10, 60)"
   ]
  },
  {
   "cell_type": "markdown",
   "id": "3000495a",
   "metadata": {},
   "source": [
    "### References"
   ]
  },
  {
   "cell_type": "markdown",
   "id": "c835b123",
   "metadata": {},
   "source": [
    "<font size='2'>[1] https://en.wikipedia.org/wiki/Levinthal%27s_paradox </font>\n",
    "\n",
    "<font size='2'>[2] A.Robert, P.Barkoutsos, S.Woerner and I.Tavernelli, Resource-efficient quantum algorithm for protein folding, NPJ Quantum Information, 2021, https://doi.org/10.1038/s41534-021-00368-4 </font>\n",
    "\n",
    "<font size=\"2\">[3] IUPAC–IUB Commission on Biochemical Nomenclature (1972). \"A one-letter notation for aminoacid sequences\". Pure and Applied Chemistry. 31 (4): 641–645. doi:10.1351/pac197231040639. PMID 5080161.</font> <br>\n",
    "\n",
    "<font size=\"2\">[4] https://en.wikipedia.org/wiki/Amino_acid</font>\n",
    "\n",
    "<font size=\"2\"> [5] S. Miyazawa and R. L.Jernigan, Residue – Residue Potentials with a Favorable Contact Pair Term and an Unfavorable High Packing Density Term for Simulation and Threading, J. Mol. Biol.256, 623–644, 1996, Table 3, https://doi.org/10.1006/jmbi.1996.0114 </font>\n",
    "\n",
    "<font size=\"2\"> [6] P.Barkoutsos, G. Nannichini, A.Robert, I.Tavernelli, S.Woerner, Improving Variational Quantum Optimization using CVaR, Quantum 4, 256, 2020, https://doi.org/10.22331/q-2020-04-20-256  </font>\n",
    "\n",
    "<font size=\"2\"> [7] S.Suwanna, Key Obstacles for Quantum Supremacy, https://www.nectec.or.th/ace2019/wp-content/uploads/2019/09/20190909_SS09_Dr.Sujin_.pdf </font>\n",
    "\n",
    "<font size=\"2\"> [8] F. Pan, simulating the sycamore quantum supremacy circuit, https://www.nectec.or.th/ace2019/wp-content/uploads/2019/09/20190909_SS09_Dr.Sujin_.pdf </font>\n",
    "\n",
    "<font size=\"2\"> [9] L.J. O'Riordan, Lightning-fast simulations with PennyLane and the NVIDIA cuQuantum SDK, https://pennylane.ai/blog/2022/07/lightning-fast-simulations-with-pennylane-and-the-nvidia-cuquantum-sdk/ </font>\n",
    "\n",
    "<font size=\"2\"> [10] IBM, Qiskit Textbook(beta), https://qiskit.org/learn/ </font>\n",
    "\n",
    "<font size=\"2\"> [11] IBM, Qiskit Research , https://github.com/qiskit-research/qiskit-research </font>\n",
    "\n",
    "\n"
   ]
  },
  {
   "cell_type": "code",
   "execution_count": 18,
   "id": "8f7e04a1",
   "metadata": {},
   "outputs": [
    {
     "data": {
      "text/html": [
       "<h3>Version Information</h3><table><tr><th>Qiskit Software</th><th>Version</th></tr><tr><td><code>qiskit-terra</code></td><td>0.22.2</td></tr><tr><td><code>qiskit-aer</code></td><td>0.12.0</td></tr><tr><td><code>qiskit-ibmq-provider</code></td><td>0.19.2</td></tr><tr><td><code>qiskit</code></td><td>0.39.2</td></tr><tr><td><code>qiskit-nature</code></td><td>0.4.2</td></tr><tr><td><code>qiskit-optimization</code></td><td>0.4.0</td></tr><tr><th>System information</th></tr><tr><td>Python version</td><td>3.10.6</td></tr><tr><td>Python compiler</td><td>GCC 11.2.0</td></tr><tr><td>Python build</td><td>main, Oct 24 2022 16:07:47</td></tr><tr><td>OS</td><td>Linux</td></tr><tr><td>CPUs</td><td>128</td></tr><tr><td>Memory (Gb)</td><td>2015.6843872070312</td></tr><tr><td colspan='2'>Thu Nov 17 07:19:27 2022 +07</td></tr></table>"
      ],
      "text/plain": [
       "<IPython.core.display.HTML object>"
      ]
     },
     "metadata": {},
     "output_type": "display_data"
    },
    {
     "data": {
      "text/html": [
       "<div style='width: 100%; background-color:#d5d9e0;padding-left: 10px; padding-bottom: 10px; padding-right: 10px; padding-top: 5px'><h3>This code is a part of Qiskit</h3><p>&copy; Copyright IBM 2017, 2022.</p><p>This code is licensed under the Apache License, Version 2.0. You may<br>obtain a copy of this license in the LICENSE.txt file in the root directory<br> of this source tree or at http://www.apache.org/licenses/LICENSE-2.0.<p>Any modifications or derivative works of this code must retain this<br>copyright notice, and modified files need to carry a notice indicating<br>that they have been altered from the originals.</p></div>"
      ],
      "text/plain": [
       "<IPython.core.display.HTML object>"
      ]
     },
     "metadata": {},
     "output_type": "display_data"
    }
   ],
   "source": [
    "import qiskit.tools.jupyter\n",
    "\n",
    "%qiskit_version_table\n",
    "%qiskit_copyright"
   ]
  },
  {
   "cell_type": "code",
   "execution_count": null,
   "id": "d0a753cc",
   "metadata": {},
   "outputs": [],
   "source": []
  }
 ],
 "metadata": {
  "interpreter": {
   "hash": "94561c5514d6ed309ef55bb744ee9b24e97b38d0ec7b9028efe679e2a743ca0e"
  },
  "kernelspec": {
   "display_name": "Python 3 (ipykernel)",
   "language": "python",
   "name": "python3"
  },
  "language_info": {
   "codemirror_mode": {
    "name": "ipython",
    "version": 3
   },
   "file_extension": ".py",
   "mimetype": "text/x-python",
   "name": "python",
   "nbconvert_exporter": "python",
   "pygments_lexer": "ipython3",
   "version": "3.10.6"
  }
 },
 "nbformat": 4,
 "nbformat_minor": 5
}
